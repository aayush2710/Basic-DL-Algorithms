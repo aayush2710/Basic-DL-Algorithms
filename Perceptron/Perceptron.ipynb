{
 "cells": [
  {
   "cell_type": "code",
   "execution_count": 1,
   "metadata": {},
   "outputs": [],
   "source": [
    "import numpy as np\n",
    "import matplotlib.pyplot as plt\n",
    "import pandas as pd"
   ]
  },
  {
   "cell_type": "code",
   "execution_count": 2,
   "metadata": {},
   "outputs": [],
   "source": [
    "dataset = pd.read_csv(\"https://archive.ics.uci.edu/ml/machine-learning-databases/breast-cancer-wisconsin/breast-cancer-wisconsin.data\"  , names = [\"Sample ID\" ,\"Clump Thickness\" ,\"Size Uniformity\" ,\"Shape uniformity\" ,\"Adhesion\" , \"CellSize\" , \"Nuclei\" , \"Chromatin\" , \"Nucleoli\" , \"Mitoses\" , \"Class\"])\n",
    "dataset = dataset.replace({'Nuclei' : {'?' : np.NaN}})\n",
    "dataset = dataset.replace({'Class' : {2 : 0, 4 : 1}})\n",
    "X = dataset.iloc[:,1:-1].values\n",
    "y = dataset.iloc[:, 10 ].values"
   ]
  },
  {
   "cell_type": "markdown",
   "metadata": {},
   "source": [
    "Preprocessing Data"
   ]
  },
  {
   "cell_type": "code",
   "execution_count": 3,
   "metadata": {},
   "outputs": [],
   "source": [
    "#Imputing Missing data\n",
    "from sklearn.impute import SimpleImputer\n",
    "imputer = SimpleImputer(missing_values = np.nan , strategy = 'mean')\n",
    "imputer = imputer.fit(X)\n",
    "X = imputer.transform(X)\n",
    "\n",
    "\n",
    "m,n = X.shape\n",
    "X = np.append(np.ones(m).reshape(m,1) , X , axis=1)\n",
    "\n",
    "# Splitting the dataset into the Training set and Test set\n",
    "from sklearn.model_selection import train_test_split\n",
    "X_train, X_test, y_train, y_test =  train_test_split(X,y,test_size = 0.2, random_state = 54)\n",
    "\n",
    "m , n = X_train.shape\n",
    "p = np.ones(m)"
   ]
  },
  {
   "cell_type": "markdown",
   "metadata": {},
   "source": [
    "Perceptron model"
   ]
  },
  {
   "cell_type": "code",
   "execution_count": 4,
   "metadata": {},
   "outputs": [],
   "source": [
    "def predict(w , X):\n",
    "        y = np.matmul(w , X.reshape(n,1))[0]\n",
    "        return(ActivateFunction(y))\n",
    "def ActivateFunction(y):\n",
    "    if(y>=0):\n",
    "            return 1\n",
    "    else:\n",
    "            return 0\n",
    "\n",
    "\n",
    "def Learn(learnRate , maxItr , w):\n",
    "    for i in range(maxItr):\n",
    "        cost = 0\n",
    "        for j in range(m):\n",
    "              y = predict(w,X_train[j])\n",
    "              diff = y - y_train[j] \n",
    "              cost+=diff**2\n",
    "              w -= diff* learnRate * X_train[j,:]\n",
    "        #print(cost)\n",
    "    return w"
   ]
  },
  {
   "cell_type": "code",
   "execution_count": 5,
   "metadata": {},
   "outputs": [],
   "source": [
    "learnRate = 0.02\n",
    "maxItr = 1500\n",
    "w = np.zeros(n)\n",
    "w = Learn(learnRate , maxItr , w)\n",
    "m,n = X_test.shape\n",
    "y_pred = np.zeros(m , dtype = np.int64)\n",
    "for i in range(m):\n",
    "    y_pred[i] = predict(w, X_test[i])"
   ]
  },
  {
   "cell_type": "code",
   "execution_count": 6,
   "metadata": {},
   "outputs": [
    {
     "name": "stdout",
     "output_type": "stream",
     "text": [
      "Actual\n",
      "[1 1 0 0 0 1 0 1 0 1 0 0 0 1 0 0 0 0 0 1 0 0 0 0 1 0 1 0 0 0 0 0 0 1 1 0 1\n",
      " 0 0 1 0 0 1 1 0 0 0 0 0 0 1 0 0 0 0 0 0 1 0 1 1 1 0 0 0 0 0 0 0 0 0 0 0 0\n",
      " 0 0 0 1 0 1 0 0 0 0 0 0 0 0 0 1 0 0 1 0 0 0 0 1 0 0 1 1 1 0 0 0 0 0 0 0 0\n",
      " 0 0 0 1 0 1 0 0 0 0 0 0 0 0 0 0 1 1 0 0 0 0 1 1 0 1 1 0 0]\n",
      "Predicted\n",
      "[1 1 0 0 0 1 0 1 0 1 0 0 0 1 0 0 0 0 0 1 0 0 0 0 1 0 1 0 0 0 0 0 0 1 1 0 1\n",
      " 0 0 1 0 0 1 1 0 0 0 0 0 0 1 0 0 0 0 0 0 1 0 1 1 1 0 0 0 0 0 0 0 0 0 0 0 0\n",
      " 0 0 0 1 0 1 0 0 0 0 0 0 0 0 0 1 0 0 1 0 0 0 0 1 0 0 1 1 1 1 0 0 1 0 0 0 0\n",
      " 0 0 0 1 0 1 0 0 0 0 0 0 0 0 0 0 1 1 0 0 0 0 0 1 0 1 1 0 0]\n",
      "\n",
      "Accuracy - 97.85714285714285%\n"
     ]
    }
   ],
   "source": [
    "from sklearn.metrics import confusion_matrix\n",
    "\n",
    "cm = confusion_matrix(y_pred , y_test)\n",
    "accuracy = (cm[0 ,0]+cm[1,1]) / m\n",
    "print(\"Actual\")\n",
    "print(y_test)\n",
    "print(\"Predicted\")\n",
    "print(y_pred)\n",
    "print()\n",
    "print(\"Accuracy - \" + str(accuracy*100) + \"%\")"
   ]
  },
  {
   "cell_type": "code",
   "execution_count": null,
   "metadata": {},
   "outputs": [],
   "source": []
  }
 ],
 "metadata": {
  "kernelspec": {
   "display_name": "Python 3",
   "language": "python",
   "name": "python3"
  },
  "language_info": {
   "codemirror_mode": {
    "name": "ipython",
    "version": 3
   },
   "file_extension": ".py",
   "mimetype": "text/x-python",
   "name": "python",
   "nbconvert_exporter": "python",
   "pygments_lexer": "ipython3",
   "version": "3.7.3"
  }
 },
 "nbformat": 4,
 "nbformat_minor": 2
}
